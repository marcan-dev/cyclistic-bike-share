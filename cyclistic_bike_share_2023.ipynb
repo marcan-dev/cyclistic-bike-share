{
 "cells": [
  {
   "cell_type": "code",
   "execution_count": 1,
   "id": "7d04fae1",
   "metadata": {},
   "outputs": [],
   "source": [
    "import pandas as pd\n",
    "import numpy as np\n",
    "import os\n",
    "from datetime import datetime\n",
    "import math\n",
    "import matplotlib.pyplot as plt\n",
    "import seaborn as sns"
   ]
  },
  {
   "cell_type": "code",
   "execution_count": 2,
   "id": "5bbde467",
   "metadata": {},
   "outputs": [
    {
     "name": "stdout",
     "output_type": "stream",
     "text": [
      "/Users/marcantoinelementec/code/marcan-dev/cyclistic_bike_share_2023\r\n"
     ]
    }
   ],
   "source": [
    "!pwd"
   ]
  },
  {
   "cell_type": "code",
   "execution_count": 3,
   "id": "17a4cd9f",
   "metadata": {},
   "outputs": [],
   "source": [
    "directory = '/Users/marcantoinelementec/code/marcan-dev/cyclistic_bike_share_2023/data'"
   ]
  },
  {
   "cell_type": "code",
   "execution_count": 4,
   "id": "9ebf1a81",
   "metadata": {},
   "outputs": [],
   "source": [
    "csv_files = os.listdir(directory)"
   ]
  },
  {
   "cell_type": "code",
   "execution_count": 5,
   "id": "0877df5a",
   "metadata": {},
   "outputs": [
    {
     "data": {
      "text/plain": [
       "['202208-divvy-tripdata.csv',\n",
       " '202205-divvy-tripdata.csv',\n",
       " '202304_divvy_tripdata.csv',\n",
       " '202303-divvy-tripdata.csv',\n",
       " '202206-divvy-tripdata.csv',\n",
       " '202210-divvy-tripdata.csv',\n",
       " '202212-divvy-tripdata.csv',\n",
       " '202211-divvy-tripdata.csv',\n",
       " '202302-divvy-tripdata.csv',\n",
       " '202207-divvy-tripdata.csv',\n",
       " '202209-divvy-publictripdata.csv',\n",
       " '202301-divvy-tripdata.csv']"
      ]
     },
     "execution_count": 5,
     "metadata": {},
     "output_type": "execute_result"
    }
   ],
   "source": [
    "csv_files"
   ]
  },
  {
   "cell_type": "code",
   "execution_count": 6,
   "id": "04273f20",
   "metadata": {},
   "outputs": [
    {
     "data": {
      "text/plain": [
       "'202208'"
      ]
     },
     "execution_count": 6,
     "metadata": {},
     "output_type": "execute_result"
    }
   ],
   "source": [
    "csv_files[0][0:6]"
   ]
  },
  {
   "cell_type": "code",
   "execution_count": 7,
   "id": "673fae24",
   "metadata": {},
   "outputs": [],
   "source": [
    "name_csv = [csv_files[i][0:6] for i in range(len(csv_files))]\n"
   ]
  },
  {
   "cell_type": "code",
   "execution_count": 8,
   "id": "1f6fed4b",
   "metadata": {},
   "outputs": [
    {
     "data": {
      "text/plain": [
       "['202208',\n",
       " '202205',\n",
       " '202304',\n",
       " '202303',\n",
       " '202206',\n",
       " '202210',\n",
       " '202212',\n",
       " '202211',\n",
       " '202302',\n",
       " '202207',\n",
       " '202209',\n",
       " '202301']"
      ]
     },
     "execution_count": 8,
     "metadata": {},
     "output_type": "execute_result"
    }
   ],
   "source": [
    "name_csv"
   ]
  },
  {
   "cell_type": "code",
   "execution_count": 9,
   "id": "c3b6334c",
   "metadata": {},
   "outputs": [],
   "source": [
    "data_202205 = pd.read_csv('data/202205-divvy-tripdata.csv') \n",
    "data_202206 = pd.read_csv('data/202206-divvy-tripdata.csv') \n",
    "data_202207 = pd.read_csv('data/202207-divvy-tripdata.csv') \n",
    "data_202208 = pd.read_csv('data/202208-divvy-tripdata.csv') \n",
    "data_202209 = pd.read_csv('data/202209-divvy-publictripdata.csv') \n",
    "data_202210 = pd.read_csv('data/202210-divvy-tripdata.csv') \n",
    "data_202211 = pd.read_csv('data/202211-divvy-tripdata.csv') \n",
    "data_202212 = pd.read_csv('data/202212-divvy-tripdata.csv') \n",
    "data_202301 = pd.read_csv('data/202301-divvy-tripdata.csv') \n",
    "data_202302 = pd.read_csv('data/202302-divvy-tripdata.csv') \n",
    "data_202303 = pd.read_csv('data/202303-divvy-tripdata.csv') \n",
    "data_202304 = pd.read_csv('data/202304_divvy_tripdata.csv') "
   ]
  },
  {
   "cell_type": "code",
   "execution_count": 10,
   "id": "a523b3d5",
   "metadata": {},
   "outputs": [],
   "source": [
    "list_data = [data_202205,data_202206,data_202207,data_202208,data_202209,data_202210,data_202211,\\\n",
    "            data_202212,data_202301,data_202302,data_202303,data_202304]"
   ]
  },
  {
   "cell_type": "code",
   "execution_count": 11,
   "id": "4e332802",
   "metadata": {},
   "outputs": [],
   "source": [
    "df = pd.concat(list_data)"
   ]
  },
  {
   "cell_type": "code",
   "execution_count": 12,
   "id": "809c623f",
   "metadata": {},
   "outputs": [
    {
     "data": {
      "text/html": [
       "<div>\n",
       "<style scoped>\n",
       "    .dataframe tbody tr th:only-of-type {\n",
       "        vertical-align: middle;\n",
       "    }\n",
       "\n",
       "    .dataframe tbody tr th {\n",
       "        vertical-align: top;\n",
       "    }\n",
       "\n",
       "    .dataframe thead th {\n",
       "        text-align: right;\n",
       "    }\n",
       "</style>\n",
       "<table border=\"1\" class=\"dataframe\">\n",
       "  <thead>\n",
       "    <tr style=\"text-align: right;\">\n",
       "      <th></th>\n",
       "      <th>ride_id</th>\n",
       "      <th>rideable_type</th>\n",
       "      <th>started_at</th>\n",
       "      <th>ended_at</th>\n",
       "      <th>start_station_name</th>\n",
       "      <th>start_station_id</th>\n",
       "      <th>end_station_name</th>\n",
       "      <th>end_station_id</th>\n",
       "      <th>start_lat</th>\n",
       "      <th>start_lng</th>\n",
       "      <th>end_lat</th>\n",
       "      <th>end_lng</th>\n",
       "      <th>member_casual</th>\n",
       "    </tr>\n",
       "  </thead>\n",
       "  <tbody>\n",
       "    <tr>\n",
       "      <th>0</th>\n",
       "      <td>EC2DE40644C6B0F4</td>\n",
       "      <td>classic_bike</td>\n",
       "      <td>2022-05-23 23:06:58</td>\n",
       "      <td>2022-05-23 23:40:19</td>\n",
       "      <td>Wabash Ave &amp; Grand Ave</td>\n",
       "      <td>TA1307000117</td>\n",
       "      <td>Halsted St &amp; Roscoe St</td>\n",
       "      <td>TA1309000025</td>\n",
       "      <td>41.891466</td>\n",
       "      <td>-87.626761</td>\n",
       "      <td>41.943670</td>\n",
       "      <td>-87.648950</td>\n",
       "      <td>member</td>\n",
       "    </tr>\n",
       "    <tr>\n",
       "      <th>1</th>\n",
       "      <td>1C31AD03897EE385</td>\n",
       "      <td>classic_bike</td>\n",
       "      <td>2022-05-11 08:53:28</td>\n",
       "      <td>2022-05-11 09:31:22</td>\n",
       "      <td>DuSable Lake Shore Dr &amp; Monroe St</td>\n",
       "      <td>13300</td>\n",
       "      <td>Field Blvd &amp; South Water St</td>\n",
       "      <td>15534</td>\n",
       "      <td>41.880958</td>\n",
       "      <td>-87.616743</td>\n",
       "      <td>41.886349</td>\n",
       "      <td>-87.617517</td>\n",
       "      <td>member</td>\n",
       "    </tr>\n",
       "    <tr>\n",
       "      <th>2</th>\n",
       "      <td>1542FBEC830415CF</td>\n",
       "      <td>classic_bike</td>\n",
       "      <td>2022-05-26 18:36:28</td>\n",
       "      <td>2022-05-26 18:58:18</td>\n",
       "      <td>Clinton St &amp; Madison St</td>\n",
       "      <td>TA1305000032</td>\n",
       "      <td>Wood St &amp; Milwaukee Ave</td>\n",
       "      <td>13221</td>\n",
       "      <td>41.882242</td>\n",
       "      <td>-87.641066</td>\n",
       "      <td>41.907655</td>\n",
       "      <td>-87.672552</td>\n",
       "      <td>member</td>\n",
       "    </tr>\n",
       "    <tr>\n",
       "      <th>3</th>\n",
       "      <td>6FF59852924528F8</td>\n",
       "      <td>classic_bike</td>\n",
       "      <td>2022-05-10 07:30:07</td>\n",
       "      <td>2022-05-10 07:38:49</td>\n",
       "      <td>Clinton St &amp; Madison St</td>\n",
       "      <td>TA1305000032</td>\n",
       "      <td>Clark St &amp; Randolph St</td>\n",
       "      <td>TA1305000030</td>\n",
       "      <td>41.882242</td>\n",
       "      <td>-87.641066</td>\n",
       "      <td>41.884576</td>\n",
       "      <td>-87.631890</td>\n",
       "      <td>member</td>\n",
       "    </tr>\n",
       "    <tr>\n",
       "      <th>4</th>\n",
       "      <td>483C52CAAE12E3AC</td>\n",
       "      <td>classic_bike</td>\n",
       "      <td>2022-05-10 17:31:56</td>\n",
       "      <td>2022-05-10 17:36:57</td>\n",
       "      <td>Clinton St &amp; Madison St</td>\n",
       "      <td>TA1305000032</td>\n",
       "      <td>Morgan St &amp; Lake St</td>\n",
       "      <td>TA1306000015</td>\n",
       "      <td>41.882242</td>\n",
       "      <td>-87.641066</td>\n",
       "      <td>41.885779</td>\n",
       "      <td>-87.651025</td>\n",
       "      <td>member</td>\n",
       "    </tr>\n",
       "  </tbody>\n",
       "</table>\n",
       "</div>"
      ],
      "text/plain": [
       "            ride_id rideable_type           started_at             ended_at  \\\n",
       "0  EC2DE40644C6B0F4  classic_bike  2022-05-23 23:06:58  2022-05-23 23:40:19   \n",
       "1  1C31AD03897EE385  classic_bike  2022-05-11 08:53:28  2022-05-11 09:31:22   \n",
       "2  1542FBEC830415CF  classic_bike  2022-05-26 18:36:28  2022-05-26 18:58:18   \n",
       "3  6FF59852924528F8  classic_bike  2022-05-10 07:30:07  2022-05-10 07:38:49   \n",
       "4  483C52CAAE12E3AC  classic_bike  2022-05-10 17:31:56  2022-05-10 17:36:57   \n",
       "\n",
       "                  start_station_name start_station_id  \\\n",
       "0             Wabash Ave & Grand Ave     TA1307000117   \n",
       "1  DuSable Lake Shore Dr & Monroe St            13300   \n",
       "2            Clinton St & Madison St     TA1305000032   \n",
       "3            Clinton St & Madison St     TA1305000032   \n",
       "4            Clinton St & Madison St     TA1305000032   \n",
       "\n",
       "              end_station_name end_station_id  start_lat  start_lng  \\\n",
       "0       Halsted St & Roscoe St   TA1309000025  41.891466 -87.626761   \n",
       "1  Field Blvd & South Water St          15534  41.880958 -87.616743   \n",
       "2      Wood St & Milwaukee Ave          13221  41.882242 -87.641066   \n",
       "3       Clark St & Randolph St   TA1305000030  41.882242 -87.641066   \n",
       "4          Morgan St & Lake St   TA1306000015  41.882242 -87.641066   \n",
       "\n",
       "     end_lat    end_lng member_casual  \n",
       "0  41.943670 -87.648950        member  \n",
       "1  41.886349 -87.617517        member  \n",
       "2  41.907655 -87.672552        member  \n",
       "3  41.884576 -87.631890        member  \n",
       "4  41.885779 -87.651025        member  "
      ]
     },
     "execution_count": 12,
     "metadata": {},
     "output_type": "execute_result"
    }
   ],
   "source": [
    "df.head()"
   ]
  },
  {
   "cell_type": "code",
   "execution_count": 13,
   "id": "dc46a3aa",
   "metadata": {},
   "outputs": [
    {
     "data": {
      "text/plain": [
       "(5859061, 13)"
      ]
     },
     "execution_count": 13,
     "metadata": {},
     "output_type": "execute_result"
    }
   ],
   "source": [
    "df.shape"
   ]
  },
  {
   "cell_type": "code",
   "execution_count": 14,
   "id": "7d14eac2",
   "metadata": {},
   "outputs": [
    {
     "data": {
      "text/plain": [
       "Index(['ride_id', 'rideable_type', 'started_at', 'ended_at',\n",
       "       'start_station_name', 'start_station_id', 'end_station_name',\n",
       "       'end_station_id', 'start_lat', 'start_lng', 'end_lat', 'end_lng',\n",
       "       'member_casual'],\n",
       "      dtype='object')"
      ]
     },
     "execution_count": 14,
     "metadata": {},
     "output_type": "execute_result"
    }
   ],
   "source": [
    "df.columns"
   ]
  },
  {
   "cell_type": "code",
   "execution_count": 15,
   "id": "a71aa93a",
   "metadata": {},
   "outputs": [
    {
     "name": "stdout",
     "output_type": "stream",
     "text": [
      "<class 'pandas.core.frame.DataFrame'>\n",
      "Int64Index: 5859061 entries, 0 to 426589\n",
      "Data columns (total 13 columns):\n",
      " #   Column              Dtype  \n",
      "---  ------              -----  \n",
      " 0   ride_id             object \n",
      " 1   rideable_type       object \n",
      " 2   started_at          object \n",
      " 3   ended_at            object \n",
      " 4   start_station_name  object \n",
      " 5   start_station_id    object \n",
      " 6   end_station_name    object \n",
      " 7   end_station_id      object \n",
      " 8   start_lat           float64\n",
      " 9   start_lng           float64\n",
      " 10  end_lat             float64\n",
      " 11  end_lng             float64\n",
      " 12  member_casual       object \n",
      "dtypes: float64(4), object(9)\n",
      "memory usage: 625.8+ MB\n"
     ]
    }
   ],
   "source": [
    "df.info()"
   ]
  },
  {
   "cell_type": "code",
   "execution_count": 16,
   "id": "20f32671",
   "metadata": {},
   "outputs": [],
   "source": [
    "df['started_at'] = pd.to_datetime(df['started_at'])\n",
    "df['ended_at'] = pd.to_datetime(df['ended_at'])"
   ]
  },
  {
   "cell_type": "code",
   "execution_count": 17,
   "id": "541c5acb",
   "metadata": {},
   "outputs": [
    {
     "name": "stdout",
     "output_type": "stream",
     "text": [
      "<class 'pandas.core.frame.DataFrame'>\n",
      "Int64Index: 5859061 entries, 0 to 426589\n",
      "Data columns (total 13 columns):\n",
      " #   Column              Dtype         \n",
      "---  ------              -----         \n",
      " 0   ride_id             object        \n",
      " 1   rideable_type       object        \n",
      " 2   started_at          datetime64[ns]\n",
      " 3   ended_at            datetime64[ns]\n",
      " 4   start_station_name  object        \n",
      " 5   start_station_id    object        \n",
      " 6   end_station_name    object        \n",
      " 7   end_station_id      object        \n",
      " 8   start_lat           float64       \n",
      " 9   start_lng           float64       \n",
      " 10  end_lat             float64       \n",
      " 11  end_lng             float64       \n",
      " 12  member_casual       object        \n",
      "dtypes: datetime64[ns](2), float64(4), object(7)\n",
      "memory usage: 625.8+ MB\n"
     ]
    }
   ],
   "source": [
    "df.info()"
   ]
  },
  {
   "cell_type": "code",
   "execution_count": 18,
   "id": "b5504aff",
   "metadata": {},
   "outputs": [],
   "source": [
    "# duration of rides"
   ]
  },
  {
   "cell_type": "code",
   "execution_count": 19,
   "id": "487f8b3b",
   "metadata": {},
   "outputs": [],
   "source": [
    "df['duration'] = df['ended_at']-df['started_at']"
   ]
  },
  {
   "cell_type": "code",
   "execution_count": 20,
   "id": "73d1a820",
   "metadata": {},
   "outputs": [],
   "source": [
    "df['duration_hour'] = df['duration'].apply(lambda x: x.total_seconds() / 3600)"
   ]
  },
  {
   "cell_type": "code",
   "execution_count": 21,
   "id": "0885ba95",
   "metadata": {},
   "outputs": [],
   "source": [
    "df.drop(columns = 'duration', axis=1,inplace=True)\n"
   ]
  },
  {
   "cell_type": "code",
   "execution_count": 22,
   "id": "69b9d23a",
   "metadata": {},
   "outputs": [],
   "source": [
    "df=df[df['duration_hour']>0]"
   ]
  },
  {
   "cell_type": "code",
   "execution_count": 23,
   "id": "d48ae398",
   "metadata": {
    "scrolled": true
   },
   "outputs": [
    {
     "data": {
      "text/plain": [
       "member_casual\n",
       "casual    0.474952\n",
       "member    0.208353\n",
       "Name: duration_hour, dtype: float64"
      ]
     },
     "execution_count": 23,
     "metadata": {},
     "output_type": "execute_result"
    }
   ],
   "source": [
    "df.groupby('member_casual')['duration_hour'].mean()\n"
   ]
  },
  {
   "cell_type": "markdown",
   "id": "e1308253",
   "metadata": {},
   "source": [
    "En moyenne les utilisateurs \"casual\" font des rides plus long que les utilisateur \"member\" "
   ]
  },
  {
   "cell_type": "code",
   "execution_count": 24,
   "id": "68b42996",
   "metadata": {},
   "outputs": [],
   "source": [
    "data_duration = {\n",
    "    'member_casual': ['casual', 'member'],\n",
    "    'duration': [0.474888, 0.208281]\n",
    "}\n",
    "\n",
    "df_duration = pd.DataFrame(data_duration)"
   ]
  },
  {
   "cell_type": "code",
   "execution_count": 25,
   "id": "4eb77be7",
   "metadata": {},
   "outputs": [
    {
     "data": {
      "image/png": "[encoded data removed]",
      "text/plain": [
       "<Figure size 640x480 with 1 Axes>"
      ]
     },
     "metadata": {},
     "output_type": "display_data"
    }
   ],
   "source": [
    "plt.title('duration versus member_casual')\n",
    "sns.barplot(data=df_duration, x='member_casual', y='duration');\n",
    "plt.xlabel('Member Type')\n",
    "plt.ylabel('average ride duration')\n",
    "\n",
    "# Display the plot\n",
    "plt.show()"
   ]
  },
  {
   "cell_type": "code",
   "execution_count": 26,
   "id": "5ae6a180",
   "metadata": {},
   "outputs": [],
   "source": [
    "number_casual = df.groupby('member_casual')['ride_id'].count()['casual']\n",
    "number_member = df.groupby('member_casual')['ride_id'].count()['member']"
   ]
  },
  {
   "cell_type": "code",
   "execution_count": 27,
   "id": "9198364d",
   "metadata": {},
   "outputs": [],
   "source": [
    "casual_vs_member = {\n",
    "    'member_casual': ['casual', 'member'],\n",
    "    'ride_id': [2358307, 3500754]\n",
    "}\n",
    "\n",
    "casual_vs_member = pd.DataFrame(casual_vs_member)\n",
    "\n"
   ]
  },
  {
   "cell_type": "code",
   "execution_count": 28,
   "id": "862ca440",
   "metadata": {},
   "outputs": [
    {
     "data": {
      "image/png": "[encoded data removed]",
      "text/plain": [
       "<Figure size 640x480 with 1 Axes>"
      ]
     },
     "metadata": {},
     "output_type": "display_data"
    }
   ],
   "source": [
    "sns.barplot(data=casual_vs_member, x='member_casual', y='ride_id');\n",
    "plt.xlabel('Member Type')\n",
    "plt.ylabel('Count')\n",
    "\n",
    "# Display the plot\n",
    "plt.show()"
   ]
  },
  {
   "cell_type": "code",
   "execution_count": 29,
   "id": "ac18aa2f",
   "metadata": {},
   "outputs": [
    {
     "name": "stdout",
     "output_type": "stream",
     "text": [
      "Il y a 2358048 utilisateurs \"casual\" contre 3500469 utilisateurs \"member\"\n"
     ]
    }
   ],
   "source": [
    "print(f'Il y a {number_casual} utilisateurs \"casual\" contre {number_member} utilisateurs \"member\"')"
   ]
  },
  {
   "cell_type": "code",
   "execution_count": 30,
   "id": "449fedd1",
   "metadata": {},
   "outputs": [],
   "source": [
    "# distance of rides"
   ]
  },
  {
   "cell_type": "code",
   "execution_count": 31,
   "id": "4c90097e",
   "metadata": {},
   "outputs": [],
   "source": [
    "def calculate_distance(lat1, lon1, lat2, lon2):\n",
    "    # Radius of the Earth in kilometers\n",
    "    R = 6371.0\n",
    "\n",
    "    # Convert latitude and longitude to radians\n",
    "    lat1_rad = math.radians(lat1)\n",
    "    lon1_rad = math.radians(lon1)\n",
    "    lat2_rad = math.radians(lat2)\n",
    "    lon2_rad = math.radians(lon2)\n",
    "\n",
    "    # Calculate the differences between the latitudes and longitudes\n",
    "    dlat = lat2_rad - lat1_rad\n",
    "    dlon = lon2_rad - lon1_rad\n",
    "\n",
    "    # Apply the Haversine formula\n",
    "    a = math.sin(dlat / 2)**2 + math.cos(lat1_rad) * math.cos(lat2_rad) * math.sin(dlon / 2)**2\n",
    "    c = 2 * math.atan2(math.sqrt(a), math.sqrt(1 - a))\n",
    "    distance = R * c\n",
    "\n",
    "    return distance"
   ]
  },
  {
   "cell_type": "code",
   "execution_count": 32,
   "id": "c7cd3252",
   "metadata": {},
   "outputs": [],
   "source": [
    "df['distance_km'] = df.apply(lambda row: calculate_distance(row['start_lat'], row['start_lng'], row['end_lat'], row['end_lng']), axis=1)"
   ]
  },
  {
   "cell_type": "code",
   "execution_count": 33,
   "id": "8beac9ff",
   "metadata": {},
   "outputs": [
    {
     "data": {
      "text/plain": [
       "2.117265856896826"
      ]
     },
     "execution_count": 33,
     "metadata": {},
     "output_type": "execute_result"
    }
   ],
   "source": [
    "df.distance_km.mean()"
   ]
  },
  {
   "cell_type": "code",
   "execution_count": 34,
   "id": "651abbb1",
   "metadata": {},
   "outputs": [
    {
     "data": {
      "text/plain": [
       "member_casual\n",
       "casual    2.146530\n",
       "member    2.097592\n",
       "Name: distance_km, dtype: float64"
      ]
     },
     "execution_count": 34,
     "metadata": {},
     "output_type": "execute_result"
    }
   ],
   "source": [
    "df.groupby('member_casual')['distance_km'].mean()"
   ]
  },
  {
   "cell_type": "code",
   "execution_count": 35,
   "id": "1847ba15",
   "metadata": {},
   "outputs": [
    {
     "data": {
      "text/plain": [
       "<AxesSubplot:xlabel='member_casual', ylabel='duration_hour'>"
      ]
     },
     "execution_count": 35,
     "metadata": {},
     "output_type": "execute_result"
    },
    {
     "data": {
      "image/png": "[encoded data removed]",
      "text/plain": [
       "<Figure size 640x480 with 1 Axes>"
      ]
     },
     "metadata": {},
     "output_type": "display_data"
    }
   ],
   "source": [
    "sns.boxplot(data=df, x='member_casual', y='duration_hour')"
   ]
  },
  {
   "cell_type": "code",
   "execution_count": 36,
   "id": "3b2484c1",
   "metadata": {},
   "outputs": [
    {
     "data": {
      "text/plain": [
       "<AxesSubplot:xlabel='duration_hour'>"
      ]
     },
     "execution_count": 36,
     "metadata": {},
     "output_type": "execute_result"
    },
    {
     "data": {
      "image/png": "[encoded data removed]",
      "text/plain": [
       "<Figure size 640x480 with 1 Axes>"
      ]
     },
     "metadata": {},
     "output_type": "display_data"
    }
   ],
   "source": [
    "sns.boxplot(data=df, x='duration_hour')"
   ]
  },
  {
   "cell_type": "code",
   "execution_count": 37,
   "id": "7b5f7483",
   "metadata": {},
   "outputs": [],
   "source": [
    "duration_hour_inf_2hour = df[df['duration_hour']<2]"
   ]
  },
  {
   "cell_type": "code",
   "execution_count": 38,
   "id": "8a1ac293",
   "metadata": {},
   "outputs": [
    {
     "data": {
      "text/plain": [
       "(5858517, 15)"
      ]
     },
     "execution_count": 38,
     "metadata": {},
     "output_type": "execute_result"
    }
   ],
   "source": [
    "df.shape"
   ]
  },
  {
   "cell_type": "code",
   "execution_count": 39,
   "id": "761bdcce",
   "metadata": {},
   "outputs": [
    {
     "data": {
      "text/plain": [
       "(5813984, 15)"
      ]
     },
     "execution_count": 39,
     "metadata": {},
     "output_type": "execute_result"
    }
   ],
   "source": [
    "duration_hour_inf_2hour.shape"
   ]
  },
  {
   "cell_type": "code",
   "execution_count": 40,
   "id": "628b17cc",
   "metadata": {},
   "outputs": [
    {
     "name": "stdout",
     "output_type": "stream",
     "text": [
      "99.24% of rides are below 2 hours of durations\n"
     ]
    }
   ],
   "source": [
    "print(f'{round((duration_hour_inf_2hour.shape[0]/df.shape[0])*100,2)}% \\\n",
    "of rides are below 2 hours of durations')"
   ]
  },
  {
   "cell_type": "code",
   "execution_count": 41,
   "id": "8176d982",
   "metadata": {},
   "outputs": [],
   "source": [
    "# we focus of rides below 2 hours"
   ]
  },
  {
   "cell_type": "code",
   "execution_count": 42,
   "id": "cce7c053",
   "metadata": {},
   "outputs": [
    {
     "data": {
      "text/plain": [
       "member_casual\n",
       "casual    0.305529\n",
       "member    0.194789\n",
       "Name: duration_hour, dtype: float64"
      ]
     },
     "execution_count": 42,
     "metadata": {},
     "output_type": "execute_result"
    }
   ],
   "source": [
    "duration_hour_inf_2hour.groupby('member_casual')['duration_hour'].mean()"
   ]
  },
  {
   "cell_type": "code",
   "execution_count": 43,
   "id": "c87cc12f",
   "metadata": {},
   "outputs": [
    {
     "data": {
      "text/plain": [
       "0         0.555833\n",
       "1         0.631667\n",
       "2         0.363889\n",
       "3         0.145000\n",
       "4         0.083611\n",
       "            ...   \n",
       "426580    0.522222\n",
       "426581    0.388889\n",
       "426582    0.480556\n",
       "426583    0.444167\n",
       "426584    0.055833\n",
       "Name: duration_hour, Length: 3493343, dtype: float64"
      ]
     },
     "execution_count": 43,
     "metadata": {},
     "output_type": "execute_result"
    }
   ],
   "source": [
    "duration_hour_inf_2hour[duration_hour_inf_2hour['member_casual'] == 'member'].duration_hour"
   ]
  },
  {
   "cell_type": "code",
   "execution_count": 44,
   "id": "52e03659",
   "metadata": {},
   "outputs": [],
   "source": [
    "df_final = duration_hour_inf_2hour[duration_hour_inf_2hour.distance_km<20]"
   ]
  },
  {
   "cell_type": "code",
   "execution_count": 45,
   "id": "a63eabf9",
   "metadata": {},
   "outputs": [
    {
     "name": "stdout",
     "output_type": "stream",
     "text": [
      "99.23% of rides are below 20km and below 2 hours\n"
     ]
    }
   ],
   "source": [
    "print(f'{round((duration_hour_inf_2hour[duration_hour_inf_2hour.distance_km<20].shape[0]/df.shape[0])*100,2)}% \\\n",
    "of rides are below 20km and below 2 hours')"
   ]
  },
  {
   "cell_type": "code",
   "execution_count": 46,
   "id": "0c517815",
   "metadata": {},
   "outputs": [],
   "source": [
    "df_final.to_csv('df_final.csv', index=False)"
   ]
  },
  {
   "cell_type": "code",
   "execution_count": 47,
   "id": "ca22f7f9",
   "metadata": {},
   "outputs": [],
   "source": [
    "member_casual_distance = df_final.groupby('member_casual')['distance_km'].mean().reset_index()"
   ]
  },
  {
   "cell_type": "code",
   "execution_count": 48,
   "id": "8ed5c84d",
   "metadata": {},
   "outputs": [
    {
     "data": {
      "image/png": "[encoded data removed]",
      "text/plain": [
       "<Figure size 800x600 with 1 Axes>"
      ]
     },
     "metadata": {},
     "output_type": "display_data"
    }
   ],
   "source": [
    "# Create the bar plot\n",
    "plt.figure(figsize=(8, 6))\n",
    "sns.barplot(data=member_casual_distance, x='member_casual', y='distance_km')\n",
    "\n",
    "# Adding labels and title\n",
    "plt.xlabel('Member Type')\n",
    "plt.ylabel('Mean Distance (kilometers)')\n",
    "plt.title('Mean Distance by Member Type')\n",
    "\n",
    "# Display the plot\n",
    "plt.show()"
   ]
  },
  {
   "cell_type": "markdown",
   "id": "c34aa64b",
   "metadata": {},
   "source": [
    "Malgrès une durée d'utilisation très différente, les distances de trajet sont sensiblement les même"
   ]
  },
  {
   "cell_type": "markdown",
   "id": "a72bae8f",
   "metadata": {},
   "source": [
    "Pour les 2 catégories d'utilisateur, il y a plus de distance parcourue entre avril et septembre"
   ]
  },
  {
   "cell_type": "markdown",
   "id": "60db3c6f",
   "metadata": {},
   "source": [
    "La durée des trajets est aussi plus longue pour les mois compris entre avril et septembre"
   ]
  },
  {
   "cell_type": "code",
   "execution_count": 49,
   "id": "371120b9",
   "metadata": {},
   "outputs": [],
   "source": [
    "#import folium\n",
    "#from folium import plugins\n",
    "#from folium.plugins import MarkerCluster\n",
    "\n",
    "# Create a base map centered at an arbitrary location\n",
    "#m = folium.Map(location=[41.881832, -87.623177], zoom_start=12)\n",
    "\n",
    "# Create a marker cluster group for start coordinates\n",
    "#start_cluster = MarkerCluster(name='Start Coordinates').add_to(m)\n",
    "\n",
    "# Create a marker cluster group for end coordinates\n",
    "#end_cluster = MarkerCluster(name='End Coordinates').add_to(m)\n",
    "\n",
    "# Iterate through your DataFrame and add markers to the clusters\n",
    "#for index, row in df_final.iterrows():\n",
    "#    start_marker = folium.Marker([row['start_lat'], row['start_lng']], icon=folium.Icon(color='green'))\n",
    "#    start_marker.add_to(start_cluster)\n",
    "    \n",
    "#    end_marker = folium.Marker([row['end_lat'], row['end_lng']], icon=folium.Icon(color='red'))\n",
    "#    end_marker.add_to(end_cluster)\n",
    "\n",
    "# Add layer control to toggle between clusters\n",
    "#folium.LayerControl(collapsed=False).add_to(m)\n",
    "\n",
    "# Display the map\n",
    "#m.save('map_with_markers.html')\n"
   ]
  },
  {
   "cell_type": "code",
   "execution_count": null,
   "id": "566ca2f9",
   "metadata": {},
   "outputs": [],
   "source": []
  }
 ],
 "metadata": {
  "kernelspec": {
   "display_name": "Python 3 (ipykernel)",
   "language": "python",
   "name": "python3"
  },
  "language_info": {
   "codemirror_mode": {
    "name": "ipython",
    "version": 3
   },
   "file_extension": ".py",
   "mimetype": "text/x-python",
   "name": "python",
   "nbconvert_exporter": "python",
   "pygments_lexer": "ipython3",
   "version": "3.10.6"
  },
  "toc": {
   "base_numbering": 1,
   "nav_menu": {},
   "number_sections": true,
   "sideBar": true,
   "skip_h1_title": false,
   "title_cell": "Table of Contents",
   "title_sidebar": "Contents",
   "toc_cell": false,
   "toc_position": {},
   "toc_section_display": true,
   "toc_window_display": false
  }
 },
 "nbformat": 4,
 "nbformat_minor": 5
}
