{
 "cells": [
  {
   "cell_type": "code",
   "execution_count": 1,
   "id": "49d13ad6",
   "metadata": {},
   "outputs": [],
   "source": [
    "import pandas as pd\n",
    "import numpy as np\n",
    "import os\n",
    "from datetime import datetime\n",
    "import math\n",
    "import matplotlib.pyplot as plt\n",
    "import seaborn as sns\n",
    "import folium\n",
    "from folium import plugins\n",
    "from folium.plugins import MarkerCluster\n",
    "from folium import Icon\n",
    "import requests\n",
    "import polyline\n",
    "from branca.colormap import linear\n",
    "from branca.colormap import LinearColormap\n",
    "from folium import plugins"
   ]
  },
  {
   "cell_type": "code",
   "execution_count": 2,
   "id": "be7214ce",
   "metadata": {},
   "outputs": [],
   "source": [
    "directory = '/Users/marcantoinelementec/code/marcan-dev/cyclistic_bike_share_2023/data'"
   ]
  },
  {
   "cell_type": "code",
   "execution_count": 3,
   "id": "cd84f007",
   "metadata": {},
   "outputs": [],
   "source": [
    "csv_files = os.listdir(directory)"
   ]
  },
  {
   "cell_type": "code",
   "execution_count": 4,
   "id": "730015ed",
   "metadata": {},
   "outputs": [
    {
     "data": {
      "text/plain": [
       "['202208-divvy-tripdata.csv',\n",
       " '202205-divvy-tripdata.csv',\n",
       " '202304_divvy_tripdata.csv',\n",
       " '202303-divvy-tripdata.csv',\n",
       " '202206-divvy-tripdata.csv',\n",
       " '202210-divvy-tripdata.csv',\n",
       " '202212-divvy-tripdata.csv',\n",
       " '202211-divvy-tripdata.csv',\n",
       " '202302-divvy-tripdata.csv',\n",
       " '202207-divvy-tripdata.csv',\n",
       " '202209-divvy-publictripdata.csv',\n",
       " '202301-divvy-tripdata.csv']"
      ]
     },
     "execution_count": 4,
     "metadata": {},
     "output_type": "execute_result"
    }
   ],
   "source": [
    "csv_files"
   ]
  },
  {
   "cell_type": "code",
   "execution_count": 5,
   "id": "44bf2079",
   "metadata": {},
   "outputs": [],
   "source": [
    "df_test = pd.read_csv('data/202205-divvy-tripdata.csv') "
   ]
  },
  {
   "cell_type": "code",
   "execution_count": 6,
   "id": "c96a74aa",
   "metadata": {},
   "outputs": [
    {
     "data": {
      "text/html": [
       "<div>\n",
       "<style scoped>\n",
       "    .dataframe tbody tr th:only-of-type {\n",
       "        vertical-align: middle;\n",
       "    }\n",
       "\n",
       "    .dataframe tbody tr th {\n",
       "        vertical-align: top;\n",
       "    }\n",
       "\n",
       "    .dataframe thead th {\n",
       "        text-align: right;\n",
       "    }\n",
       "</style>\n",
       "<table border=\"1\" class=\"dataframe\">\n",
       "  <thead>\n",
       "    <tr style=\"text-align: right;\">\n",
       "      <th></th>\n",
       "      <th>ride_id</th>\n",
       "      <th>rideable_type</th>\n",
       "      <th>started_at</th>\n",
       "      <th>ended_at</th>\n",
       "      <th>start_station_name</th>\n",
       "      <th>start_station_id</th>\n",
       "      <th>end_station_name</th>\n",
       "      <th>end_station_id</th>\n",
       "      <th>start_lat</th>\n",
       "      <th>start_lng</th>\n",
       "      <th>end_lat</th>\n",
       "      <th>end_lng</th>\n",
       "      <th>member_casual</th>\n",
       "    </tr>\n",
       "  </thead>\n",
       "  <tbody>\n",
       "    <tr>\n",
       "      <th>0</th>\n",
       "      <td>EC2DE40644C6B0F4</td>\n",
       "      <td>classic_bike</td>\n",
       "      <td>2022-05-23 23:06:58</td>\n",
       "      <td>2022-05-23 23:40:19</td>\n",
       "      <td>Wabash Ave &amp; Grand Ave</td>\n",
       "      <td>TA1307000117</td>\n",
       "      <td>Halsted St &amp; Roscoe St</td>\n",
       "      <td>TA1309000025</td>\n",
       "      <td>41.891466</td>\n",
       "      <td>-87.626761</td>\n",
       "      <td>41.943670</td>\n",
       "      <td>-87.648950</td>\n",
       "      <td>member</td>\n",
       "    </tr>\n",
       "    <tr>\n",
       "      <th>1</th>\n",
       "      <td>1C31AD03897EE385</td>\n",
       "      <td>classic_bike</td>\n",
       "      <td>2022-05-11 08:53:28</td>\n",
       "      <td>2022-05-11 09:31:22</td>\n",
       "      <td>DuSable Lake Shore Dr &amp; Monroe St</td>\n",
       "      <td>13300</td>\n",
       "      <td>Field Blvd &amp; South Water St</td>\n",
       "      <td>15534</td>\n",
       "      <td>41.880958</td>\n",
       "      <td>-87.616743</td>\n",
       "      <td>41.886349</td>\n",
       "      <td>-87.617517</td>\n",
       "      <td>member</td>\n",
       "    </tr>\n",
       "    <tr>\n",
       "      <th>2</th>\n",
       "      <td>1542FBEC830415CF</td>\n",
       "      <td>classic_bike</td>\n",
       "      <td>2022-05-26 18:36:28</td>\n",
       "      <td>2022-05-26 18:58:18</td>\n",
       "      <td>Clinton St &amp; Madison St</td>\n",
       "      <td>TA1305000032</td>\n",
       "      <td>Wood St &amp; Milwaukee Ave</td>\n",
       "      <td>13221</td>\n",
       "      <td>41.882242</td>\n",
       "      <td>-87.641066</td>\n",
       "      <td>41.907655</td>\n",
       "      <td>-87.672552</td>\n",
       "      <td>member</td>\n",
       "    </tr>\n",
       "    <tr>\n",
       "      <th>3</th>\n",
       "      <td>6FF59852924528F8</td>\n",
       "      <td>classic_bike</td>\n",
       "      <td>2022-05-10 07:30:07</td>\n",
       "      <td>2022-05-10 07:38:49</td>\n",
       "      <td>Clinton St &amp; Madison St</td>\n",
       "      <td>TA1305000032</td>\n",
       "      <td>Clark St &amp; Randolph St</td>\n",
       "      <td>TA1305000030</td>\n",
       "      <td>41.882242</td>\n",
       "      <td>-87.641066</td>\n",
       "      <td>41.884576</td>\n",
       "      <td>-87.631890</td>\n",
       "      <td>member</td>\n",
       "    </tr>\n",
       "    <tr>\n",
       "      <th>4</th>\n",
       "      <td>483C52CAAE12E3AC</td>\n",
       "      <td>classic_bike</td>\n",
       "      <td>2022-05-10 17:31:56</td>\n",
       "      <td>2022-05-10 17:36:57</td>\n",
       "      <td>Clinton St &amp; Madison St</td>\n",
       "      <td>TA1305000032</td>\n",
       "      <td>Morgan St &amp; Lake St</td>\n",
       "      <td>TA1306000015</td>\n",
       "      <td>41.882242</td>\n",
       "      <td>-87.641066</td>\n",
       "      <td>41.885779</td>\n",
       "      <td>-87.651025</td>\n",
       "      <td>member</td>\n",
       "    </tr>\n",
       "  </tbody>\n",
       "</table>\n",
       "</div>"
      ],
      "text/plain": [
       "            ride_id rideable_type           started_at             ended_at  \\\n",
       "0  EC2DE40644C6B0F4  classic_bike  2022-05-23 23:06:58  2022-05-23 23:40:19   \n",
       "1  1C31AD03897EE385  classic_bike  2022-05-11 08:53:28  2022-05-11 09:31:22   \n",
       "2  1542FBEC830415CF  classic_bike  2022-05-26 18:36:28  2022-05-26 18:58:18   \n",
       "3  6FF59852924528F8  classic_bike  2022-05-10 07:30:07  2022-05-10 07:38:49   \n",
       "4  483C52CAAE12E3AC  classic_bike  2022-05-10 17:31:56  2022-05-10 17:36:57   \n",
       "\n",
       "                  start_station_name start_station_id  \\\n",
       "0             Wabash Ave & Grand Ave     TA1307000117   \n",
       "1  DuSable Lake Shore Dr & Monroe St            13300   \n",
       "2            Clinton St & Madison St     TA1305000032   \n",
       "3            Clinton St & Madison St     TA1305000032   \n",
       "4            Clinton St & Madison St     TA1305000032   \n",
       "\n",
       "              end_station_name end_station_id  start_lat  start_lng  \\\n",
       "0       Halsted St & Roscoe St   TA1309000025  41.891466 -87.626761   \n",
       "1  Field Blvd & South Water St          15534  41.880958 -87.616743   \n",
       "2      Wood St & Milwaukee Ave          13221  41.882242 -87.641066   \n",
       "3       Clark St & Randolph St   TA1305000030  41.882242 -87.641066   \n",
       "4          Morgan St & Lake St   TA1306000015  41.882242 -87.641066   \n",
       "\n",
       "     end_lat    end_lng member_casual  \n",
       "0  41.943670 -87.648950        member  \n",
       "1  41.886349 -87.617517        member  \n",
       "2  41.907655 -87.672552        member  \n",
       "3  41.884576 -87.631890        member  \n",
       "4  41.885779 -87.651025        member  "
      ]
     },
     "execution_count": 6,
     "metadata": {},
     "output_type": "execute_result"
    }
   ],
   "source": [
    "df_test.head()"
   ]
  },
  {
   "cell_type": "code",
   "execution_count": 7,
   "id": "9003b024",
   "metadata": {},
   "outputs": [],
   "source": [
    "m = folium.Map(location=[41.881832, -87.623177], zoom_start=12)"
   ]
  },
  {
   "cell_type": "code",
   "execution_count": 8,
   "id": "94c832fd",
   "metadata": {},
   "outputs": [],
   "source": [
    "custom_icon_end = Icon(color='red', icon='end')\n",
    "custom_icon_start = Icon(color='blue', icon='start')"
   ]
  },
  {
   "cell_type": "code",
   "execution_count": 9,
   "id": "7030a00d",
   "metadata": {},
   "outputs": [],
   "source": [
    "import folium\n",
    "import requests\n",
    "\n",
    "# Replace with your Mapbox API token\n",
    "MAPBOX_API_TOKEN = 'pk.eyJ1IjoibWFsZW1lbnRlYyIsImEiOiJjbGx4eHNrYTAwOGNqM2RuMWp1azJxM2s4In0.mSdYFi1wAJciFKBl_Q7AfQ'\n",
    "\n",
    "# Define the start and end coordinates\n",
    "start_coords = (41.880958, -87.616743)\n",
    "start_coords2 = (41.891466, -87.626761)\n",
    "end_coords = (41.886349, -87.617517)\n",
    "end_coords2 = (41.943670, -87.648950)"
   ]
  },
  {
   "cell_type": "code",
   "execution_count": 10,
   "id": "bbd8f349",
   "metadata": {},
   "outputs": [],
   "source": [
    "# Get the route using Mapbox Directions API\n",
    "#response = requests.get(f'https://api.mapbox.com/directions/v5/mapbox/driving/{start_coords2[1]},{start_coords2[0]};{end_coords2[1]},{end_coords2[0]}', params={'access_token': MAPBOX_API_TOKEN})\n",
    "\n",
    "#route = response.json()"
   ]
  },
  {
   "cell_type": "code",
   "execution_count": 11,
   "id": "a70b511e",
   "metadata": {},
   "outputs": [
    {
     "ename": "NameError",
     "evalue": "name 'route' is not defined",
     "output_type": "error",
     "traceback": [
      "\u001b[0;31m---------------------------------------------------------------------------\u001b[0m",
      "\u001b[0;31mNameError\u001b[0m                                 Traceback (most recent call last)",
      "Cell \u001b[0;32mIn [11], line 2\u001b[0m\n\u001b[1;32m      1\u001b[0m \u001b[38;5;66;03m# Extract the coordinates of the route steps\u001b[39;00m\n\u001b[0;32m----> 2\u001b[0m encoded_geometry \u001b[38;5;241m=\u001b[39m \u001b[43mroute\u001b[49m[\u001b[38;5;124m'\u001b[39m\u001b[38;5;124mroutes\u001b[39m\u001b[38;5;124m'\u001b[39m][\u001b[38;5;241m0\u001b[39m][\u001b[38;5;124m'\u001b[39m\u001b[38;5;124mgeometry\u001b[39m\u001b[38;5;124m'\u001b[39m]\n\u001b[1;32m      3\u001b[0m route_coords \u001b[38;5;241m=\u001b[39m polyline\u001b[38;5;241m.\u001b[39mdecode(encoded_geometry)\n\u001b[1;32m      4\u001b[0m route_coords\n",
      "\u001b[0;31mNameError\u001b[0m: name 'route' is not defined"
     ]
    }
   ],
   "source": [
    "# Extract the coordinates of the route steps\n",
    "encoded_geometry = route['routes'][0]['geometry']\n",
    "route_coords = polyline.decode(encoded_geometry)\n",
    "route_coords\n",
    "\n",
    "# Add markers to the map\n",
    "folium.Marker(route_coords[0], popup='Start',icon=custom_icon_start).add_to(m)\n",
    "folium.Marker(route_coords[-1], popup='End',icon=custom_icon_end).add_to(m)\n",
    "# Add a PolyLine to represent the route\n",
    "folium.PolyLine(route_coords, color='blue').add_to(m)"
   ]
  },
  {
   "cell_type": "code",
   "execution_count": 12,
   "id": "96afabb6",
   "metadata": {},
   "outputs": [
    {
     "data": {
      "text/html": [
       "<div>\n",
       "<style scoped>\n",
       "    .dataframe tbody tr th:only-of-type {\n",
       "        vertical-align: middle;\n",
       "    }\n",
       "\n",
       "    .dataframe tbody tr th {\n",
       "        vertical-align: top;\n",
       "    }\n",
       "\n",
       "    .dataframe thead th {\n",
       "        text-align: right;\n",
       "    }\n",
       "</style>\n",
       "<table border=\"1\" class=\"dataframe\">\n",
       "  <thead>\n",
       "    <tr style=\"text-align: right;\">\n",
       "      <th></th>\n",
       "      <th>ride_id</th>\n",
       "      <th>rideable_type</th>\n",
       "      <th>started_at</th>\n",
       "      <th>ended_at</th>\n",
       "      <th>start_station_name</th>\n",
       "      <th>start_station_id</th>\n",
       "      <th>end_station_name</th>\n",
       "      <th>end_station_id</th>\n",
       "      <th>start_lat</th>\n",
       "      <th>start_lng</th>\n",
       "      <th>end_lat</th>\n",
       "      <th>end_lng</th>\n",
       "      <th>member_casual</th>\n",
       "    </tr>\n",
       "  </thead>\n",
       "  <tbody>\n",
       "    <tr>\n",
       "      <th>0</th>\n",
       "      <td>EC2DE40644C6B0F4</td>\n",
       "      <td>classic_bike</td>\n",
       "      <td>2022-05-23 23:06:58</td>\n",
       "      <td>2022-05-23 23:40:19</td>\n",
       "      <td>Wabash Ave &amp; Grand Ave</td>\n",
       "      <td>TA1307000117</td>\n",
       "      <td>Halsted St &amp; Roscoe St</td>\n",
       "      <td>TA1309000025</td>\n",
       "      <td>41.891466</td>\n",
       "      <td>-87.626761</td>\n",
       "      <td>41.943670</td>\n",
       "      <td>-87.648950</td>\n",
       "      <td>member</td>\n",
       "    </tr>\n",
       "    <tr>\n",
       "      <th>1</th>\n",
       "      <td>1C31AD03897EE385</td>\n",
       "      <td>classic_bike</td>\n",
       "      <td>2022-05-11 08:53:28</td>\n",
       "      <td>2022-05-11 09:31:22</td>\n",
       "      <td>DuSable Lake Shore Dr &amp; Monroe St</td>\n",
       "      <td>13300</td>\n",
       "      <td>Field Blvd &amp; South Water St</td>\n",
       "      <td>15534</td>\n",
       "      <td>41.880958</td>\n",
       "      <td>-87.616743</td>\n",
       "      <td>41.886349</td>\n",
       "      <td>-87.617517</td>\n",
       "      <td>member</td>\n",
       "    </tr>\n",
       "    <tr>\n",
       "      <th>2</th>\n",
       "      <td>1542FBEC830415CF</td>\n",
       "      <td>classic_bike</td>\n",
       "      <td>2022-05-26 18:36:28</td>\n",
       "      <td>2022-05-26 18:58:18</td>\n",
       "      <td>Clinton St &amp; Madison St</td>\n",
       "      <td>TA1305000032</td>\n",
       "      <td>Wood St &amp; Milwaukee Ave</td>\n",
       "      <td>13221</td>\n",
       "      <td>41.882242</td>\n",
       "      <td>-87.641066</td>\n",
       "      <td>41.907655</td>\n",
       "      <td>-87.672552</td>\n",
       "      <td>member</td>\n",
       "    </tr>\n",
       "    <tr>\n",
       "      <th>3</th>\n",
       "      <td>6FF59852924528F8</td>\n",
       "      <td>classic_bike</td>\n",
       "      <td>2022-05-10 07:30:07</td>\n",
       "      <td>2022-05-10 07:38:49</td>\n",
       "      <td>Clinton St &amp; Madison St</td>\n",
       "      <td>TA1305000032</td>\n",
       "      <td>Clark St &amp; Randolph St</td>\n",
       "      <td>TA1305000030</td>\n",
       "      <td>41.882242</td>\n",
       "      <td>-87.641066</td>\n",
       "      <td>41.884576</td>\n",
       "      <td>-87.631890</td>\n",
       "      <td>member</td>\n",
       "    </tr>\n",
       "    <tr>\n",
       "      <th>4</th>\n",
       "      <td>483C52CAAE12E3AC</td>\n",
       "      <td>classic_bike</td>\n",
       "      <td>2022-05-10 17:31:56</td>\n",
       "      <td>2022-05-10 17:36:57</td>\n",
       "      <td>Clinton St &amp; Madison St</td>\n",
       "      <td>TA1305000032</td>\n",
       "      <td>Morgan St &amp; Lake St</td>\n",
       "      <td>TA1306000015</td>\n",
       "      <td>41.882242</td>\n",
       "      <td>-87.641066</td>\n",
       "      <td>41.885779</td>\n",
       "      <td>-87.651025</td>\n",
       "      <td>member</td>\n",
       "    </tr>\n",
       "  </tbody>\n",
       "</table>\n",
       "</div>"
      ],
      "text/plain": [
       "            ride_id rideable_type           started_at             ended_at  \\\n",
       "0  EC2DE40644C6B0F4  classic_bike  2022-05-23 23:06:58  2022-05-23 23:40:19   \n",
       "1  1C31AD03897EE385  classic_bike  2022-05-11 08:53:28  2022-05-11 09:31:22   \n",
       "2  1542FBEC830415CF  classic_bike  2022-05-26 18:36:28  2022-05-26 18:58:18   \n",
       "3  6FF59852924528F8  classic_bike  2022-05-10 07:30:07  2022-05-10 07:38:49   \n",
       "4  483C52CAAE12E3AC  classic_bike  2022-05-10 17:31:56  2022-05-10 17:36:57   \n",
       "\n",
       "                  start_station_name start_station_id  \\\n",
       "0             Wabash Ave & Grand Ave     TA1307000117   \n",
       "1  DuSable Lake Shore Dr & Monroe St            13300   \n",
       "2            Clinton St & Madison St     TA1305000032   \n",
       "3            Clinton St & Madison St     TA1305000032   \n",
       "4            Clinton St & Madison St     TA1305000032   \n",
       "\n",
       "              end_station_name end_station_id  start_lat  start_lng  \\\n",
       "0       Halsted St & Roscoe St   TA1309000025  41.891466 -87.626761   \n",
       "1  Field Blvd & South Water St          15534  41.880958 -87.616743   \n",
       "2      Wood St & Milwaukee Ave          13221  41.882242 -87.641066   \n",
       "3       Clark St & Randolph St   TA1305000030  41.882242 -87.641066   \n",
       "4          Morgan St & Lake St   TA1306000015  41.882242 -87.641066   \n",
       "\n",
       "     end_lat    end_lng member_casual  \n",
       "0  41.943670 -87.648950        member  \n",
       "1  41.886349 -87.617517        member  \n",
       "2  41.907655 -87.672552        member  \n",
       "3  41.884576 -87.631890        member  \n",
       "4  41.885779 -87.651025        member  "
      ]
     },
     "execution_count": 12,
     "metadata": {},
     "output_type": "execute_result"
    }
   ],
   "source": [
    "df_test.head()"
   ]
  },
  {
   "cell_type": "code",
   "execution_count": 13,
   "id": "68d4f54d",
   "metadata": {},
   "outputs": [],
   "source": [
    "list_of_coordonate_start = df_test.apply(lambda row: (row['start_lat'], row['start_lng']), axis=1).to_list()"
   ]
  },
  {
   "cell_type": "code",
   "execution_count": 14,
   "id": "96ba73c3",
   "metadata": {},
   "outputs": [],
   "source": [
    "list_of_coordonate_end = df_test.apply(lambda row: (row['end_lat'], row['end_lng']), axis=1).to_list()"
   ]
  },
  {
   "cell_type": "code",
   "execution_count": 15,
   "id": "9ac887d8",
   "metadata": {},
   "outputs": [],
   "source": [
    "n = folium.Map(location=[41.881832, -87.623177], zoom_start=12)"
   ]
  },
  {
   "cell_type": "code",
   "execution_count": 16,
   "id": "2dd7de55",
   "metadata": {},
   "outputs": [
    {
     "ename": "NameError",
     "evalue": "name 'route' is not defined",
     "output_type": "error",
     "traceback": [
      "\u001b[0;31m---------------------------------------------------------------------------\u001b[0m",
      "\u001b[0;31mNameError\u001b[0m                                 Traceback (most recent call last)",
      "Cell \u001b[0;32mIn [16], line 10\u001b[0m\n\u001b[1;32m      1\u001b[0m \u001b[38;5;28;01mfor\u001b[39;00m i \u001b[38;5;129;01min\u001b[39;00m \u001b[38;5;28mrange\u001b[39m(\u001b[38;5;241m5\u001b[39m):\n\u001b[1;32m      2\u001b[0m     \u001b[38;5;66;03m#folium.Marker(list_of_coordonate_start[i], popup='Start', icon=folium.Icon(color='green')).add_to(n)\u001b[39;00m\n\u001b[1;32m      3\u001b[0m     \u001b[38;5;66;03m#folium.Marker(list_of_coordonate_end[i], popup='End', icon=folium.Icon(color='red')).add_to(n)\u001b[39;00m\n\u001b[0;32m   (...)\u001b[0m\n\u001b[1;32m      8\u001b[0m     \u001b[38;5;66;03m#print(route)\u001b[39;00m\n\u001b[1;32m      9\u001b[0m     \u001b[38;5;66;03m# Extract the coordinates of the route steps\u001b[39;00m\n\u001b[0;32m---> 10\u001b[0m     encoded_geometry \u001b[38;5;241m=\u001b[39m \u001b[43mroute\u001b[49m[\u001b[38;5;124m'\u001b[39m\u001b[38;5;124mroutes\u001b[39m\u001b[38;5;124m'\u001b[39m][\u001b[38;5;241m0\u001b[39m][\u001b[38;5;124m'\u001b[39m\u001b[38;5;124mgeometry\u001b[39m\u001b[38;5;124m'\u001b[39m]\n\u001b[1;32m     11\u001b[0m     route_coords \u001b[38;5;241m=\u001b[39m polyline\u001b[38;5;241m.\u001b[39mdecode(encoded_geometry)\n\u001b[1;32m     12\u001b[0m     \u001b[38;5;66;03m#print(route_coords)\u001b[39;00m\n\u001b[1;32m     13\u001b[0m \n\u001b[1;32m     14\u001b[0m     \u001b[38;5;66;03m# Add markers to the map\u001b[39;00m\n",
      "\u001b[0;31mNameError\u001b[0m: name 'route' is not defined"
     ]
    }
   ],
   "source": [
    "for i in range(5):\n",
    "    #folium.Marker(list_of_coordonate_start[i], popup='Start', icon=folium.Icon(color='green')).add_to(n)\n",
    "    #folium.Marker(list_of_coordonate_end[i], popup='End', icon=folium.Icon(color='red')).add_to(n)\n",
    "    #route_coords = [list_of_coordonate_start[i], list_of_coordonate_end[i]]\n",
    "    #folium.PolyLine(locations=route_coords, color='blue').add_to(n)\n",
    "    #response = requests.get(f'https://api.mapbox.com/directions/v5/mapbox/driving/{list_of_coordonate_start[i][1]},{list_of_coordonate_start[i][0]};{list_of_coordonate_end[i][1]},{list_of_coordonate_end[i][0]}', params={'access_token': MAPBOX_API_TOKEN})\n",
    "    #route = response.json()\n",
    "    #print(route)\n",
    "    # Extract the coordinates of the route steps\n",
    "    encoded_geometry = route['routes'][0]['geometry']\n",
    "    route_coords = polyline.decode(encoded_geometry)\n",
    "    #print(route_coords)\n",
    "\n",
    "    # Add markers to the map\n",
    "    folium.Marker(route_coords[0], popup='Start',icon=Icon(color='green', icon='start')).add_to(n)\n",
    "    folium.Marker(route_coords[-1], popup='End',icon=Icon(color='red', icon='end')).add_to(n)\n",
    "    # Add a PolyLine to represent the route\n",
    "    folium.PolyLine(route_coords, color='blue').add_to(n)\n",
    "\n",
    "    \n"
   ]
  },
  {
   "cell_type": "code",
   "execution_count": null,
   "id": "a38fca84",
   "metadata": {},
   "outputs": [],
   "source": [
    "n.save('map_with_exact_road.html')"
   ]
  },
  {
   "cell_type": "code",
   "execution_count": null,
   "id": "74b8fd1e",
   "metadata": {},
   "outputs": [],
   "source": [
    "df_memb_cas_coord = df_test[['ride_id','start_lat','start_lng','end_lat','end_lng','member_casual']]"
   ]
  },
  {
   "cell_type": "code",
   "execution_count": null,
   "id": "5b17b857",
   "metadata": {},
   "outputs": [],
   "source": [
    "list_of_coordonate_member = df_test[df_test['member_casual'] == 'member'].apply(lambda row: (row['start_lat'], row['start_lng'],row['end_lat'], row['end_lng']), axis=1).to_list()\n",
    "list_of_coordonate_casual = df_test[df_test['member_casual'] == 'casual'].apply(lambda row: (row['start_lat'], row['start_lng'],row['end_lat'], row['end_lng']), axis=1).to_list()\n"
   ]
  },
  {
   "cell_type": "code",
   "execution_count": null,
   "id": "d09aae75",
   "metadata": {},
   "outputs": [],
   "source": [
    "list_of_coordonate_member[0][0:2]"
   ]
  },
  {
   "cell_type": "code",
   "execution_count": null,
   "id": "8683ed03",
   "metadata": {},
   "outputs": [],
   "source": [
    "map_casual_member_coord = folium.Map(location=[41.881832, -87.623177], zoom_start=10)"
   ]
  },
  {
   "cell_type": "code",
   "execution_count": null,
   "id": "a33f4bab",
   "metadata": {},
   "outputs": [],
   "source": [
    "for i in range(100):\n",
    "    folium.Marker(list_of_coordonate_member[i][0:2], popup='Member', icon=folium.Icon(color='green')).add_to(map_casual_member_coord)\n",
    "    folium.Marker(list_of_coordonate_casual[i][0:2], popup='Casual', icon=folium.Icon(color='red')).add_to(map_casual_member_coord)\n",
    "    \n",
    "    \n",
    "# Create a custom legend using HTML and CSS\n",
    "legend_html = '''\n",
    "<div style=\"position: fixed; top: 40px; right: 10px;width: 100px; height: 78px ; z-index: 1000; background-color: white; padding: 10px; border: 1px solid grey; box-shadow: 2px 2px 5px grey;\">\n",
    "    <p><img src=\"https://raw.githubusercontent.com/pointhi/leaflet-color-markers/master/img/marker-icon-2x-red.png\" style=\"height:20px;\"> Casual</p>\n",
    "    <p><img src=\"https://raw.githubusercontent.com/pointhi/leaflet-color-markers/master/img/marker-icon-2x-green.png\" style=\"height:20px;\"> Member</p>\n",
    "</div>\n",
    "'''\n",
    "title_html = \"\"\"\n",
    "<div style=\"font-size: 24px; font-weight: bold; text-align: center;\">Repartion of Member versus Casual</div>\n",
    "\"\"\"\n",
    "\n",
    "# Add the custom legend to the map\n",
    "map_casual_member_coord.get_root().html.add_child(folium.Element(legend_html))\n",
    "map_casual_member_coord.get_root().html.add_child(folium.Element(title_html))\n"
   ]
  },
  {
   "cell_type": "code",
   "execution_count": null,
   "id": "c2d9c460",
   "metadata": {},
   "outputs": [],
   "source": [
    "map_casual_member_coord"
   ]
  },
  {
   "cell_type": "markdown",
   "id": "1ed4174e",
   "metadata": {},
   "source": [
    "# Stations locations"
   ]
  },
  {
   "cell_type": "code",
   "execution_count": null,
   "id": "fdc15a68",
   "metadata": {},
   "outputs": [],
   "source": [
    "data_202205 = pd.read_csv('data/202205-divvy-tripdata.csv') \n",
    "data_202206 = pd.read_csv('data/202206-divvy-tripdata.csv') \n",
    "data_202207 = pd.read_csv('data/202207-divvy-tripdata.csv') \n",
    "data_202208 = pd.read_csv('data/202208-divvy-tripdata.csv') \n",
    "data_202209 = pd.read_csv('data/202209-divvy-publictripdata.csv') \n",
    "data_202210 = pd.read_csv('data/202210-divvy-tripdata.csv') \n",
    "data_202211 = pd.read_csv('data/202211-divvy-tripdata.csv') \n",
    "data_202212 = pd.read_csv('data/202212-divvy-tripdata.csv') \n",
    "data_202301 = pd.read_csv('data/202301-divvy-tripdata.csv') \n",
    "data_202302 = pd.read_csv('data/202302-divvy-tripdata.csv') \n",
    "data_202303 = pd.read_csv('data/202303-divvy-tripdata.csv') \n",
    "data_202304 = pd.read_csv('data/202304_divvy_tripdata.csv') "
   ]
  },
  {
   "cell_type": "code",
   "execution_count": null,
   "id": "99d2a9d7",
   "metadata": {},
   "outputs": [],
   "source": [
    "list_data = [data_202205,data_202206,data_202207,data_202208,data_202209,data_202210,data_202211,\\\n",
    "            data_202212,data_202301,data_202302,data_202303,data_202304]\n",
    "\n",
    "df = pd.concat(list_data)"
   ]
  },
  {
   "cell_type": "code",
   "execution_count": null,
   "id": "aaeeb0e2",
   "metadata": {},
   "outputs": [],
   "source": [
    "df.start_station_id.unique()"
   ]
  },
  {
   "cell_type": "markdown",
   "id": "aaa19b4e",
   "metadata": {},
   "source": [
    "choose end_station_id because there is the most station"
   ]
  },
  {
   "cell_type": "code",
   "execution_count": null,
   "id": "3aae4433",
   "metadata": {},
   "outputs": [],
   "source": [
    "def mode_func(x):\n",
    "    return x.mode().iloc[0]\n",
    "    "
   ]
  },
  {
   "cell_type": "code",
   "execution_count": null,
   "id": "6aca5a93",
   "metadata": {},
   "outputs": [],
   "source": [
    "df_stations_trafic = df.groupby('end_station_id').agg({'end_station_id':'count','end_lat':'first','end_lng':'first','member_casual':mode_func})\n",
    "df_stations_trafic"
   ]
  },
  {
   "cell_type": "code",
   "execution_count": null,
   "id": "1c696c85",
   "metadata": {},
   "outputs": [],
   "source": [
    "station_map = folium.Map(location=[41.881832, -87.623177], zoom_start=11)"
   ]
  },
  {
   "cell_type": "code",
   "execution_count": null,
   "id": "aeb66e34",
   "metadata": {
    "scrolled": true
   },
   "outputs": [],
   "source": [
    "min_value = df_stations_trafic.describe().min()['end_station_id']"
   ]
  },
  {
   "cell_type": "code",
   "execution_count": null,
   "id": "d993f634",
   "metadata": {},
   "outputs": [],
   "source": [
    "max_value = df_stations_trafic.describe().max()['end_station_id']"
   ]
  },
  {
   "cell_type": "code",
   "execution_count": null,
   "id": "84b6434a",
   "metadata": {},
   "outputs": [],
   "source": [
    "colormap = linear.YlOrRd_03.scale(min_value, max_value)\n",
    "colormap.caption = 'Custom Colormap'"
   ]
  },
  {
   "cell_type": "code",
   "execution_count": null,
   "id": "234ecb80",
   "metadata": {},
   "outputs": [],
   "source": [
    "colormap = {'casual': 'blue', 'member': 'red'}"
   ]
  },
  {
   "cell_type": "code",
   "execution_count": null,
   "id": "3a02c3ce",
   "metadata": {},
   "outputs": [],
   "source": [
    "colormap['casual']"
   ]
  },
  {
   "cell_type": "code",
   "execution_count": null,
   "id": "e52eb4c6",
   "metadata": {},
   "outputs": [],
   "source": [
    "for lat, lon, number, status in zip(df_stations_trafic['end_lat'],df_stations_trafic['end_lng'],\\\n",
    "                            df_stations_trafic['end_station_id'],df_stations_trafic['member_casual']):\n",
    "    print(lat,lon,number,status)"
   ]
  },
  {
   "cell_type": "code",
   "execution_count": null,
   "id": "c4e2eed2",
   "metadata": {},
   "outputs": [],
   "source": [
    "df_stations_trafic.describe()"
   ]
  },
  {
   "cell_type": "code",
   "execution_count": null,
   "id": "6ad06e21",
   "metadata": {},
   "outputs": [],
   "source": [
    "for lat, lon, number, status in zip(df_stations_trafic['end_lat'],df_stations_trafic['end_lng'],\\\n",
    "                            df_stations_trafic['end_station_id'],df_stations_trafic['member_casual']):\n",
    "    #lat = row['end_lat']\n",
    "    #lon = row['end_lng']\n",
    "    #status= row['member_casual']\n",
    "    #radius = row['end_station_id'] \n",
    "    folium.CircleMarker(\n",
    "        location=[lat, lon],\n",
    "        radius=number/3000, \n",
    "        color=colormap[status],\n",
    "        #custom_colormap(radius), \n",
    "        fill=True,\n",
    "        fill_color=colormap[status], \n",
    "        fill_opacity=0.3\n",
    "        #popup=f'Radius: {radius}' \n",
    "    ).add_to(station_map)\n"
   ]
  },
  {
   "cell_type": "code",
   "execution_count": null,
   "id": "a47cb39a",
   "metadata": {},
   "outputs": [],
   "source": [
    "station_map.get_root().html.add_child(folium.Element(\n",
    "\"\"\"\n",
    "    <style>\n",
    "        /* Style for the filled rectangle symbol (Member) */\n",
    "        .member-rectangle {\n",
    "            width: 20px; /* Width of the rectangle */\n",
    "            height: 10px; /* Height of the rectangle */\n",
    "            background-color: red; /* Fill color of the rectangle */\n",
    "            border: 1px solid #000; /* Border color and thickness */\n",
    "            border-radius: 2px; \n",
    "            color: red; /* Fill color of the rectangle (text color) */\n",
    "        }\n",
    "\n",
    "        /* Style for the filled rectangle symbol (Casual) */\n",
    "        .casual-rectangle {\n",
    "            width: 20px; /* Width of the rectangle */\n",
    "            height: 10px; /* Height of the rectangle */\n",
    "            background-color: blue; /* Fill color of the rectangle */\n",
    "            border: 1px solid #000; /* Border color and thickness */\n",
    "            border-radius: 2px; \n",
    "            color: blue; /* Fill color of the rectangle (text color) */\n",
    "        }\n",
    "\n",
    "        /* Style for the legend text */\n",
    "        .legend-text {\n",
    "            vertical-align: middle; /* Vertically align text with the rectangle */\n",
    "            margin-left: 5px; /* Spacing between rectangle and text (adjust as needed) */\n",
    "        }\n",
    "    </style>\n",
    "   <div style=\"position: fixed; top: 10px; right: 10px; z-index: 1000; background-color: rgba(245, 245, 245, 0); /* Translucent light gray background */ padding: 10px; box-shadow: 2px 2px 5px grey;\">\n",
    "        <p><strong>Legend</strong></p>\n",
    "        <p><span class=\"member-rectangle\">&#9644; </span><span class=\"legend-text\">: Member</span></p>\n",
    "        <p><span class=\"casual-rectangle\">&#9644; </span><span class=\"legend-text\">: Casual</span></p>\n",
    "        <p><svg width=\"20\" height=\"20\"><circle cx=\"10\" cy=\"10\" r=\"3\" fill=\"black\"></circle></svg> Between 1 and 26</p>\n",
    "        <p><svg width=\"20\" height=\"20\"><circle cx=\"10\" cy=\"10\" r=\"5\" fill=\"black\"></circle></svg> Between 27 and 245</p>\n",
    "        <p><svg width=\"20\" height=\"20\"><circle cx=\"10\" cy=\"10\" r=\"8\" fill=\"black\"></circle></svg> Between 246 and 4870</p>\n",
    "        <p><svg width=\"20\" height=\"20\"><circle cx=\"10\" cy=\"10\" r=\"10\" fill=\"black\"></circle></svg> 4870 and more</p>\n",
    "    </div>\n",
    "\"\"\"))\n",
    "\n"
   ]
  },
  {
   "cell_type": "code",
   "execution_count": null,
   "id": "c7bba69a",
   "metadata": {},
   "outputs": [],
   "source": [
    "station_map"
   ]
  },
  {
   "cell_type": "code",
   "execution_count": null,
   "id": "de81754c",
   "metadata": {},
   "outputs": [],
   "source": [
    "station_map"
   ]
  },
  {
   "cell_type": "code",
   "execution_count": null,
   "id": "8da4d772",
   "metadata": {},
   "outputs": [],
   "source": [
    "station_map.save('map.html')"
   ]
  },
  {
   "cell_type": "code",
   "execution_count": null,
   "id": "ce886238",
   "metadata": {},
   "outputs": [],
   "source": []
  }
 ],
 "metadata": {
  "kernelspec": {
   "display_name": "Python 3 (ipykernel)",
   "language": "python",
   "name": "python3"
  },
  "language_info": {
   "codemirror_mode": {
    "name": "ipython",
    "version": 3
   },
   "file_extension": ".py",
   "mimetype": "text/x-python",
   "name": "python",
   "nbconvert_exporter": "python",
   "pygments_lexer": "ipython3",
   "version": "3.10.6"
  },
  "toc": {
   "base_numbering": 1,
   "nav_menu": {},
   "number_sections": true,
   "sideBar": true,
   "skip_h1_title": false,
   "title_cell": "Table of Contents",
   "title_sidebar": "Contents",
   "toc_cell": false,
   "toc_position": {},
   "toc_section_display": true,
   "toc_window_display": false
  }
 },
 "nbformat": 4,
 "nbformat_minor": 5
}
